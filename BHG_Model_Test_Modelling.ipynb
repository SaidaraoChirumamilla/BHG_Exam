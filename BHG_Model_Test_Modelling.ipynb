{
  "nbformat": 4,
  "nbformat_minor": 0,
  "metadata": {
    "colab": {
      "name": "BHG_Model_Test_Modelling.ipynb",
      "provenance": []
    },
    "kernelspec": {
      "name": "python3",
      "display_name": "Python 3"
    },
    "language_info": {
      "name": "python"
    }
  },
  "cells": [
    {
      "cell_type": "code",
      "metadata": {
        "id": "se4rAGbG18Ty"
      },
      "source": [
        "import pandas as pd\n",
        "from sklearn.pipeline import make_pipeline\n",
        "from sklearn.preprocessing import PolynomialFeatures\n",
        "from sklearn.model_selection import train_test_split\n",
        "from sklearn.ensemble import RandomForestRegressor\n",
        "import numpy as np\n",
        "import sklearn\n",
        "from sklearn.svm import SVR\n",
        "from sklearn import linear_model\n",
        "from sklearn import feature_selection\n",
        "from sklearn.model_selection import train_test_split\n",
        "from sklearn.metrics import mean_squared_error, r2_score\n",
        "from sklearn.tree import DecisionTreeRegressor\n",
        "from IPython.display import display # Allows the use of display() for DataFrames\n",
        "%matplotlib inline"
      ],
      "execution_count": 1,
      "outputs": []
    },
    {
      "cell_type": "code",
      "metadata": {
        "colab": {
          "base_uri": "https://localhost:8080/",
          "height": 241
        },
        "id": "q7xhf7_T2gGY",
        "outputId": "59064e2d-5ca7-4348-87ff-a3f9abfab64a"
      },
      "source": [
        "Data = pd.read_csv(\"/content/drive/MyDrive/BHG Model test/BHG_Preprocessed_dataset.csv\")\n",
        "Data.head()\n"
      ],
      "execution_count": 2,
      "outputs": [
        {
          "output_type": "execute_result",
          "data": {
            "text/html": [
              "<div>\n",
              "<style scoped>\n",
              "    .dataframe tbody tr th:only-of-type {\n",
              "        vertical-align: middle;\n",
              "    }\n",
              "\n",
              "    .dataframe tbody tr th {\n",
              "        vertical-align: top;\n",
              "    }\n",
              "\n",
              "    .dataframe thead th {\n",
              "        text-align: right;\n",
              "    }\n",
              "</style>\n",
              "<table border=\"1\" class=\"dataframe\">\n",
              "  <thead>\n",
              "    <tr style=\"text-align: right;\">\n",
              "      <th></th>\n",
              "      <th>Unnamed: 0</th>\n",
              "      <th>y</th>\n",
              "      <th>var_1</th>\n",
              "      <th>var_2</th>\n",
              "      <th>var_3</th>\n",
              "      <th>var_4</th>\n",
              "      <th>var_5</th>\n",
              "      <th>var_6</th>\n",
              "      <th>var_7</th>\n",
              "      <th>var_8</th>\n",
              "      <th>var_9</th>\n",
              "      <th>var_10_1</th>\n",
              "      <th>var_10_2</th>\n",
              "      <th>var_10_3</th>\n",
              "      <th>var_10_4</th>\n",
              "      <th>var_10_5</th>\n",
              "    </tr>\n",
              "  </thead>\n",
              "  <tbody>\n",
              "    <tr>\n",
              "      <th>0</th>\n",
              "      <td>0</td>\n",
              "      <td>0.985685</td>\n",
              "      <td>0.351120</td>\n",
              "      <td>0.805808</td>\n",
              "      <td>0.157025</td>\n",
              "      <td>0.316473</td>\n",
              "      <td>0.447676</td>\n",
              "      <td>0.731353</td>\n",
              "      <td>0.745978</td>\n",
              "      <td>0.592695</td>\n",
              "      <td>0.907020</td>\n",
              "      <td>0</td>\n",
              "      <td>0</td>\n",
              "      <td>0</td>\n",
              "      <td>1</td>\n",
              "      <td>0</td>\n",
              "    </tr>\n",
              "    <tr>\n",
              "      <th>1</th>\n",
              "      <td>1</td>\n",
              "      <td>0.970169</td>\n",
              "      <td>0.198878</td>\n",
              "      <td>0.761638</td>\n",
              "      <td>0.151984</td>\n",
              "      <td>0.692158</td>\n",
              "      <td>0.397692</td>\n",
              "      <td>0.847151</td>\n",
              "      <td>0.624126</td>\n",
              "      <td>0.665884</td>\n",
              "      <td>0.950416</td>\n",
              "      <td>0</td>\n",
              "      <td>0</td>\n",
              "      <td>0</td>\n",
              "      <td>0</td>\n",
              "      <td>1</td>\n",
              "    </tr>\n",
              "    <tr>\n",
              "      <th>2</th>\n",
              "      <td>2</td>\n",
              "      <td>0.921798</td>\n",
              "      <td>0.377130</td>\n",
              "      <td>0.707738</td>\n",
              "      <td>0.171508</td>\n",
              "      <td>0.712682</td>\n",
              "      <td>0.349209</td>\n",
              "      <td>0.804942</td>\n",
              "      <td>0.679938</td>\n",
              "      <td>0.640003</td>\n",
              "      <td>0.925710</td>\n",
              "      <td>0</td>\n",
              "      <td>1</td>\n",
              "      <td>0</td>\n",
              "      <td>0</td>\n",
              "      <td>0</td>\n",
              "    </tr>\n",
              "    <tr>\n",
              "      <th>3</th>\n",
              "      <td>3</td>\n",
              "      <td>0.703526</td>\n",
              "      <td>0.721077</td>\n",
              "      <td>0.619257</td>\n",
              "      <td>0.495876</td>\n",
              "      <td>0.340117</td>\n",
              "      <td>0.181229</td>\n",
              "      <td>0.708127</td>\n",
              "      <td>0.647097</td>\n",
              "      <td>0.822736</td>\n",
              "      <td>0.846514</td>\n",
              "      <td>0</td>\n",
              "      <td>0</td>\n",
              "      <td>0</td>\n",
              "      <td>1</td>\n",
              "      <td>0</td>\n",
              "    </tr>\n",
              "    <tr>\n",
              "      <th>4</th>\n",
              "      <td>4</td>\n",
              "      <td>0.660075</td>\n",
              "      <td>0.318995</td>\n",
              "      <td>0.499755</td>\n",
              "      <td>0.161605</td>\n",
              "      <td>0.500301</td>\n",
              "      <td>0.354386</td>\n",
              "      <td>0.837026</td>\n",
              "      <td>0.651982</td>\n",
              "      <td>0.586557</td>\n",
              "      <td>0.499977</td>\n",
              "      <td>0</td>\n",
              "      <td>0</td>\n",
              "      <td>1</td>\n",
              "      <td>0</td>\n",
              "      <td>0</td>\n",
              "    </tr>\n",
              "  </tbody>\n",
              "</table>\n",
              "</div>"
            ],
            "text/plain": [
              "   Unnamed: 0         y     var_1  ...  var_10_3  var_10_4  var_10_5\n",
              "0           0  0.985685  0.351120  ...         0         1         0\n",
              "1           1  0.970169  0.198878  ...         0         0         1\n",
              "2           2  0.921798  0.377130  ...         0         0         0\n",
              "3           3  0.703526  0.721077  ...         0         1         0\n",
              "4           4  0.660075  0.318995  ...         1         0         0\n",
              "\n",
              "[5 rows x 16 columns]"
            ]
          },
          "metadata": {
            "tags": []
          },
          "execution_count": 2
        }
      ]
    },
    {
      "cell_type": "code",
      "metadata": {
        "colab": {
          "base_uri": "https://localhost:8080/",
          "height": 224
        },
        "id": "t70UuHZ_3HbO",
        "outputId": "5dfcb398-4a7c-4079-d068-39d776f6eb56"
      },
      "source": [
        "Data = Data.drop('Unnamed: 0',axis=1)\n",
        "Data.head()"
      ],
      "execution_count": 3,
      "outputs": [
        {
          "output_type": "execute_result",
          "data": {
            "text/html": [
              "<div>\n",
              "<style scoped>\n",
              "    .dataframe tbody tr th:only-of-type {\n",
              "        vertical-align: middle;\n",
              "    }\n",
              "\n",
              "    .dataframe tbody tr th {\n",
              "        vertical-align: top;\n",
              "    }\n",
              "\n",
              "    .dataframe thead th {\n",
              "        text-align: right;\n",
              "    }\n",
              "</style>\n",
              "<table border=\"1\" class=\"dataframe\">\n",
              "  <thead>\n",
              "    <tr style=\"text-align: right;\">\n",
              "      <th></th>\n",
              "      <th>y</th>\n",
              "      <th>var_1</th>\n",
              "      <th>var_2</th>\n",
              "      <th>var_3</th>\n",
              "      <th>var_4</th>\n",
              "      <th>var_5</th>\n",
              "      <th>var_6</th>\n",
              "      <th>var_7</th>\n",
              "      <th>var_8</th>\n",
              "      <th>var_9</th>\n",
              "      <th>var_10_1</th>\n",
              "      <th>var_10_2</th>\n",
              "      <th>var_10_3</th>\n",
              "      <th>var_10_4</th>\n",
              "      <th>var_10_5</th>\n",
              "    </tr>\n",
              "  </thead>\n",
              "  <tbody>\n",
              "    <tr>\n",
              "      <th>0</th>\n",
              "      <td>0.985685</td>\n",
              "      <td>0.351120</td>\n",
              "      <td>0.805808</td>\n",
              "      <td>0.157025</td>\n",
              "      <td>0.316473</td>\n",
              "      <td>0.447676</td>\n",
              "      <td>0.731353</td>\n",
              "      <td>0.745978</td>\n",
              "      <td>0.592695</td>\n",
              "      <td>0.907020</td>\n",
              "      <td>0</td>\n",
              "      <td>0</td>\n",
              "      <td>0</td>\n",
              "      <td>1</td>\n",
              "      <td>0</td>\n",
              "    </tr>\n",
              "    <tr>\n",
              "      <th>1</th>\n",
              "      <td>0.970169</td>\n",
              "      <td>0.198878</td>\n",
              "      <td>0.761638</td>\n",
              "      <td>0.151984</td>\n",
              "      <td>0.692158</td>\n",
              "      <td>0.397692</td>\n",
              "      <td>0.847151</td>\n",
              "      <td>0.624126</td>\n",
              "      <td>0.665884</td>\n",
              "      <td>0.950416</td>\n",
              "      <td>0</td>\n",
              "      <td>0</td>\n",
              "      <td>0</td>\n",
              "      <td>0</td>\n",
              "      <td>1</td>\n",
              "    </tr>\n",
              "    <tr>\n",
              "      <th>2</th>\n",
              "      <td>0.921798</td>\n",
              "      <td>0.377130</td>\n",
              "      <td>0.707738</td>\n",
              "      <td>0.171508</td>\n",
              "      <td>0.712682</td>\n",
              "      <td>0.349209</td>\n",
              "      <td>0.804942</td>\n",
              "      <td>0.679938</td>\n",
              "      <td>0.640003</td>\n",
              "      <td>0.925710</td>\n",
              "      <td>0</td>\n",
              "      <td>1</td>\n",
              "      <td>0</td>\n",
              "      <td>0</td>\n",
              "      <td>0</td>\n",
              "    </tr>\n",
              "    <tr>\n",
              "      <th>3</th>\n",
              "      <td>0.703526</td>\n",
              "      <td>0.721077</td>\n",
              "      <td>0.619257</td>\n",
              "      <td>0.495876</td>\n",
              "      <td>0.340117</td>\n",
              "      <td>0.181229</td>\n",
              "      <td>0.708127</td>\n",
              "      <td>0.647097</td>\n",
              "      <td>0.822736</td>\n",
              "      <td>0.846514</td>\n",
              "      <td>0</td>\n",
              "      <td>0</td>\n",
              "      <td>0</td>\n",
              "      <td>1</td>\n",
              "      <td>0</td>\n",
              "    </tr>\n",
              "    <tr>\n",
              "      <th>4</th>\n",
              "      <td>0.660075</td>\n",
              "      <td>0.318995</td>\n",
              "      <td>0.499755</td>\n",
              "      <td>0.161605</td>\n",
              "      <td>0.500301</td>\n",
              "      <td>0.354386</td>\n",
              "      <td>0.837026</td>\n",
              "      <td>0.651982</td>\n",
              "      <td>0.586557</td>\n",
              "      <td>0.499977</td>\n",
              "      <td>0</td>\n",
              "      <td>0</td>\n",
              "      <td>1</td>\n",
              "      <td>0</td>\n",
              "      <td>0</td>\n",
              "    </tr>\n",
              "  </tbody>\n",
              "</table>\n",
              "</div>"
            ],
            "text/plain": [
              "          y     var_1     var_2  ...  var_10_3  var_10_4  var_10_5\n",
              "0  0.985685  0.351120  0.805808  ...         0         1         0\n",
              "1  0.970169  0.198878  0.761638  ...         0         0         1\n",
              "2  0.921798  0.377130  0.707738  ...         0         0         0\n",
              "3  0.703526  0.721077  0.619257  ...         0         1         0\n",
              "4  0.660075  0.318995  0.499755  ...         1         0         0\n",
              "\n",
              "[5 rows x 15 columns]"
            ]
          },
          "metadata": {
            "tags": []
          },
          "execution_count": 3
        }
      ]
    },
    {
      "cell_type": "code",
      "metadata": {
        "colab": {
          "base_uri": "https://localhost:8080/",
          "height": 411
        },
        "id": "SrfFbAjF3Uis",
        "outputId": "59d41092-77c7-448f-9a42-bd748992fe20"
      },
      "source": [
        "#Splitting the data into target variable and independent variables\n",
        "Y = Data['y']\n",
        "X = Data.drop('y',axis=1)\n",
        "print(\"target Feature\\n\")\n",
        "display(Y.head(5))\n",
        "print(\"\\ndiscriptive Features\\n\")\n",
        "display(X.head(5))"
      ],
      "execution_count": 4,
      "outputs": [
        {
          "output_type": "stream",
          "text": [
            "target Feature\n",
            "\n"
          ],
          "name": "stdout"
        },
        {
          "output_type": "display_data",
          "data": {
            "text/plain": [
              "0    0.985685\n",
              "1    0.970169\n",
              "2    0.921798\n",
              "3    0.703526\n",
              "4    0.660075\n",
              "Name: y, dtype: float64"
            ]
          },
          "metadata": {
            "tags": []
          }
        },
        {
          "output_type": "stream",
          "text": [
            "\n",
            "discriptive Features\n",
            "\n"
          ],
          "name": "stdout"
        },
        {
          "output_type": "display_data",
          "data": {
            "text/html": [
              "<div>\n",
              "<style scoped>\n",
              "    .dataframe tbody tr th:only-of-type {\n",
              "        vertical-align: middle;\n",
              "    }\n",
              "\n",
              "    .dataframe tbody tr th {\n",
              "        vertical-align: top;\n",
              "    }\n",
              "\n",
              "    .dataframe thead th {\n",
              "        text-align: right;\n",
              "    }\n",
              "</style>\n",
              "<table border=\"1\" class=\"dataframe\">\n",
              "  <thead>\n",
              "    <tr style=\"text-align: right;\">\n",
              "      <th></th>\n",
              "      <th>var_1</th>\n",
              "      <th>var_2</th>\n",
              "      <th>var_3</th>\n",
              "      <th>var_4</th>\n",
              "      <th>var_5</th>\n",
              "      <th>var_6</th>\n",
              "      <th>var_7</th>\n",
              "      <th>var_8</th>\n",
              "      <th>var_9</th>\n",
              "      <th>var_10_1</th>\n",
              "      <th>var_10_2</th>\n",
              "      <th>var_10_3</th>\n",
              "      <th>var_10_4</th>\n",
              "      <th>var_10_5</th>\n",
              "    </tr>\n",
              "  </thead>\n",
              "  <tbody>\n",
              "    <tr>\n",
              "      <th>0</th>\n",
              "      <td>0.351120</td>\n",
              "      <td>0.805808</td>\n",
              "      <td>0.157025</td>\n",
              "      <td>0.316473</td>\n",
              "      <td>0.447676</td>\n",
              "      <td>0.731353</td>\n",
              "      <td>0.745978</td>\n",
              "      <td>0.592695</td>\n",
              "      <td>0.907020</td>\n",
              "      <td>0</td>\n",
              "      <td>0</td>\n",
              "      <td>0</td>\n",
              "      <td>1</td>\n",
              "      <td>0</td>\n",
              "    </tr>\n",
              "    <tr>\n",
              "      <th>1</th>\n",
              "      <td>0.198878</td>\n",
              "      <td>0.761638</td>\n",
              "      <td>0.151984</td>\n",
              "      <td>0.692158</td>\n",
              "      <td>0.397692</td>\n",
              "      <td>0.847151</td>\n",
              "      <td>0.624126</td>\n",
              "      <td>0.665884</td>\n",
              "      <td>0.950416</td>\n",
              "      <td>0</td>\n",
              "      <td>0</td>\n",
              "      <td>0</td>\n",
              "      <td>0</td>\n",
              "      <td>1</td>\n",
              "    </tr>\n",
              "    <tr>\n",
              "      <th>2</th>\n",
              "      <td>0.377130</td>\n",
              "      <td>0.707738</td>\n",
              "      <td>0.171508</td>\n",
              "      <td>0.712682</td>\n",
              "      <td>0.349209</td>\n",
              "      <td>0.804942</td>\n",
              "      <td>0.679938</td>\n",
              "      <td>0.640003</td>\n",
              "      <td>0.925710</td>\n",
              "      <td>0</td>\n",
              "      <td>1</td>\n",
              "      <td>0</td>\n",
              "      <td>0</td>\n",
              "      <td>0</td>\n",
              "    </tr>\n",
              "    <tr>\n",
              "      <th>3</th>\n",
              "      <td>0.721077</td>\n",
              "      <td>0.619257</td>\n",
              "      <td>0.495876</td>\n",
              "      <td>0.340117</td>\n",
              "      <td>0.181229</td>\n",
              "      <td>0.708127</td>\n",
              "      <td>0.647097</td>\n",
              "      <td>0.822736</td>\n",
              "      <td>0.846514</td>\n",
              "      <td>0</td>\n",
              "      <td>0</td>\n",
              "      <td>0</td>\n",
              "      <td>1</td>\n",
              "      <td>0</td>\n",
              "    </tr>\n",
              "    <tr>\n",
              "      <th>4</th>\n",
              "      <td>0.318995</td>\n",
              "      <td>0.499755</td>\n",
              "      <td>0.161605</td>\n",
              "      <td>0.500301</td>\n",
              "      <td>0.354386</td>\n",
              "      <td>0.837026</td>\n",
              "      <td>0.651982</td>\n",
              "      <td>0.586557</td>\n",
              "      <td>0.499977</td>\n",
              "      <td>0</td>\n",
              "      <td>0</td>\n",
              "      <td>1</td>\n",
              "      <td>0</td>\n",
              "      <td>0</td>\n",
              "    </tr>\n",
              "  </tbody>\n",
              "</table>\n",
              "</div>"
            ],
            "text/plain": [
              "      var_1     var_2     var_3  ...  var_10_3  var_10_4  var_10_5\n",
              "0  0.351120  0.805808  0.157025  ...         0         1         0\n",
              "1  0.198878  0.761638  0.151984  ...         0         0         1\n",
              "2  0.377130  0.707738  0.171508  ...         0         0         0\n",
              "3  0.721077  0.619257  0.495876  ...         0         1         0\n",
              "4  0.318995  0.499755  0.161605  ...         1         0         0\n",
              "\n",
              "[5 rows x 14 columns]"
            ]
          },
          "metadata": {
            "tags": []
          }
        }
      ]
    },
    {
      "cell_type": "code",
      "metadata": {
        "id": "vsFk9yfY4TQR"
      },
      "source": [
        "#Train test Split \n",
        "X_train, X_test, y_train, y_test = train_test_split(X, Y, test_size=0.25)"
      ],
      "execution_count": 5,
      "outputs": []
    },
    {
      "cell_type": "markdown",
      "metadata": {
        "id": "KTMJTrd8AGi8"
      },
      "source": [
        "# Linear Regression "
      ]
    },
    {
      "cell_type": "markdown",
      "metadata": {
        "id": "6q2qAK0YDYUa"
      },
      "source": [
        "##### Linear Regresion Model Training and Testing"
      ]
    },
    {
      "cell_type": "code",
      "metadata": {
        "id": "pEA2fb8d4veg"
      },
      "source": [
        "# Create linear regression object\n",
        "regr = linear_model.LinearRegression()\n",
        "\n",
        "# Train the model using the training sets\n",
        "regr.fit(X_train, y_train)\n",
        "\n",
        "# Make predictions using the testing set\n",
        "y_pred = regr.predict(X_test)"
      ],
      "execution_count": 6,
      "outputs": []
    },
    {
      "cell_type": "markdown",
      "metadata": {
        "id": "tTbI5VRLE33Z"
      },
      "source": [
        "##### Evaluating the Linear Regression model"
      ]
    },
    {
      "cell_type": "code",
      "metadata": {
        "colab": {
          "base_uri": "https://localhost:8080/"
        },
        "id": "Vkt6xBmd4yg8",
        "outputId": "b8a60651-52c2-4977-cbef-a86c8839624a"
      },
      "source": [
        "# # The coefficients\n",
        "# print('Coefficients: \\n', regr.coef_)\n",
        "# The mean squared error\n",
        "print('Mean squared error: %.2f'\n",
        "      % mean_squared_error(y_test, y_pred))\n",
        "# The coefficient of determination: 1 is perfect prediction\n",
        "print('Coefficient of determination: %.2f'\n",
        "      % r2_score(y_test, y_pred))\n"
      ],
      "execution_count": 7,
      "outputs": [
        {
          "output_type": "stream",
          "text": [
            "Mean squared error: 0.01\n",
            "Coefficient of determination: 0.76\n"
          ],
          "name": "stdout"
        }
      ]
    },
    {
      "cell_type": "markdown",
      "metadata": {
        "id": "_Xle7KhLAewJ"
      },
      "source": [
        "# Regresions with different degrees"
      ]
    },
    {
      "cell_type": "code",
      "metadata": {
        "id": "NxkQgjPa33-H"
      },
      "source": [
        "degrees = [1, 2, 3,]\n",
        "\n",
        "y_train_pred = np.zeros((len(X_train), len(degrees)))\n",
        "y_test_pred = np.zeros((len(X_test), len(degrees)))\n",
        "\n",
        "for i, degree in enumerate(degrees):\n",
        "    \n",
        "    # make pipeline: create features, then feed them to linear_reg model\n",
        "    model = make_pipeline(PolynomialFeatures(degree), linear_model.LinearRegression())\n",
        "    model.fit(X_train, y_train)\n",
        "    \n",
        "    # predict on test and train data\n",
        "    # store the predictions of each degree in the corresponding column\n",
        "    y_train_pred[:, i] = model.predict(X_train)\n",
        "    y_test_pred[:, i] = model.predict(X_test)"
      ],
      "execution_count": 8,
      "outputs": []
    },
    {
      "cell_type": "code",
      "metadata": {
        "colab": {
          "base_uri": "https://localhost:8080/"
        },
        "id": "UM0Fvlav4P1y",
        "outputId": "3e3878b2-e0b3-4807-b1cf-9b0e2b8f87ba"
      },
      "source": [
        "\n",
        "for i, degree in enumerate(degrees):\n",
        "    train_r2 = round(sklearn.metrics.r2_score(y_train, y_train_pred[:, i]), 2)\n",
        "    test_r2 = round(sklearn.metrics.r2_score(y_test, y_test_pred[:, i]), 2)\n",
        "    print(\"Polynomial degree {0}: \\n\".format(degree))\n",
        "    print('Mean squared error: %.4f' % mean_squared_error(y_test, y_test_pred[:, i]))\n",
        "     # The coefficient of determination: 1 is perfect prediction\n",
        "    print('R2 Score: %.4f'\n",
        "      % r2_score(y_test, y_test_pred[:, i]))\n",
        "    print(\"\\n\")\n"
      ],
      "execution_count": 13,
      "outputs": [
        {
          "output_type": "stream",
          "text": [
            "Polynomial degree 1: \n",
            "\n",
            "Mean squared error: 0.0081\n",
            "R2 Score: 0.7643\n",
            "\n",
            "\n",
            "Polynomial degree 2: \n",
            "\n",
            "Mean squared error: 0.0055\n",
            "R2 Score: 0.8419\n",
            "\n",
            "\n",
            "Polynomial degree 3: \n",
            "\n",
            "Mean squared error: 0.0030\n",
            "R2 Score: 0.9140\n",
            "\n",
            "\n"
          ],
          "name": "stdout"
        }
      ]
    },
    {
      "cell_type": "markdown",
      "metadata": {
        "id": "4N4WPDwaCuOQ"
      },
      "source": [
        "# Support vector Regressor"
      ]
    },
    {
      "cell_type": "code",
      "metadata": {
        "colab": {
          "base_uri": "https://localhost:8080/"
        },
        "id": "k4MPzpAGCJz4",
        "outputId": "20a7de1e-f76b-432d-e66a-5b17a57ee446"
      },
      "source": [
        "# Create linear regression object\n",
        "SVRegressor = SVR(kernel='rbf')\n",
        "\n",
        "# Train the model using the training sets\n",
        "SVRegressor.fit(X_train,y_train)"
      ],
      "execution_count": 14,
      "outputs": [
        {
          "output_type": "execute_result",
          "data": {
            "text/plain": [
              "SVR(C=1.0, cache_size=200, coef0=0.0, degree=3, epsilon=0.1, gamma='scale',\n",
              "    kernel='rbf', max_iter=-1, shrinking=True, tol=0.001, verbose=False)"
            ]
          },
          "metadata": {
            "tags": []
          },
          "execution_count": 14
        }
      ]
    },
    {
      "cell_type": "code",
      "metadata": {
        "id": "k41IgRCKC_Io"
      },
      "source": [
        "# Make predictions using the testing set\n",
        "SVR_y_pred = SVRegressor.predict(X_test)"
      ],
      "execution_count": 18,
      "outputs": []
    },
    {
      "cell_type": "code",
      "metadata": {
        "colab": {
          "base_uri": "https://localhost:8080/"
        },
        "id": "89eWBYXSN9qz",
        "outputId": "0b970e1e-51e0-4c16-e9c0-ae65129efdab"
      },
      "source": [
        "print('Mean squared error: %.4f'\n",
        "      % mean_squared_error(y_test, SVR_y_pred))\n",
        "# The coefficient of determination: 1 is perfect prediction\n",
        "print('R2 Score: %.2f'\n",
        "      % r2_score(y_test, SVR_y_pred))\n"
      ],
      "execution_count": 19,
      "outputs": [
        {
          "output_type": "stream",
          "text": [
            "Mean squared error: 0.0039\n",
            "R2 Score: 0.89\n"
          ],
          "name": "stdout"
        }
      ]
    },
    {
      "cell_type": "markdown",
      "metadata": {
        "id": "6o1pYJfuBbZi"
      },
      "source": [
        "# Decision Tree Regression"
      ]
    },
    {
      "cell_type": "code",
      "metadata": {
        "colab": {
          "base_uri": "https://localhost:8080/"
        },
        "id": "QjH6atN94mzX",
        "outputId": "75875e65-33ee-415f-90ea-87995699d62f"
      },
      "source": [
        "# Create linear regression object\n",
        "DTRegressor = DecisionTreeRegressor(random_state=0)\n",
        "\n",
        "# Train the model using the training sets\n",
        "DTRegressor.fit(X_train,y_train)"
      ],
      "execution_count": 20,
      "outputs": [
        {
          "output_type": "execute_result",
          "data": {
            "text/plain": [
              "DecisionTreeRegressor(ccp_alpha=0.0, criterion='mse', max_depth=None,\n",
              "                      max_features=None, max_leaf_nodes=None,\n",
              "                      min_impurity_decrease=0.0, min_impurity_split=None,\n",
              "                      min_samples_leaf=1, min_samples_split=2,\n",
              "                      min_weight_fraction_leaf=0.0, presort='deprecated',\n",
              "                      random_state=0, splitter='best')"
            ]
          },
          "metadata": {
            "tags": []
          },
          "execution_count": 20
        }
      ]
    },
    {
      "cell_type": "code",
      "metadata": {
        "colab": {
          "base_uri": "https://localhost:8080/"
        },
        "id": "ZI9s8JaMByqA",
        "outputId": "94d3a91b-de35-449b-8c00-04c9b5996c42"
      },
      "source": [
        "# Make predictions using the testing set\n",
        "DTR_y_pred = DTRegressor.predict(X_test)\n",
        "r2_score(y_test,DTR_y_pred)"
      ],
      "execution_count": 21,
      "outputs": [
        {
          "output_type": "execute_result",
          "data": {
            "text/plain": [
              "0.9186173535729593"
            ]
          },
          "metadata": {
            "tags": []
          },
          "execution_count": 21
        }
      ]
    },
    {
      "cell_type": "code",
      "metadata": {
        "colab": {
          "base_uri": "https://localhost:8080/"
        },
        "id": "UWG4RabsORIE",
        "outputId": "1f6bb2a9-720a-4f94-895a-fcec256044b0"
      },
      "source": [
        "print('Mean squared error: %.4f'\n",
        "      % mean_squared_error(y_test,DTR_y_pred))\n",
        "# The coefficient of determination: 1 is perfect prediction\n",
        "print('r2 square: %.4f'\n",
        "      % r2_score(y_test,DTR_y_pred))\n"
      ],
      "execution_count": 22,
      "outputs": [
        {
          "output_type": "stream",
          "text": [
            "Mean squared error: 0.0028\n",
            "r2 square: 0.9186\n"
          ],
          "name": "stdout"
        }
      ]
    },
    {
      "cell_type": "markdown",
      "metadata": {
        "id": "BPuJnihK_8WO"
      },
      "source": [
        "# Random Forest Rgressor"
      ]
    },
    {
      "cell_type": "code",
      "metadata": {
        "colab": {
          "base_uri": "https://localhost:8080/"
        },
        "id": "89e3SwKH-HhP",
        "outputId": "da875afb-4346-4bb8-a5aa-1c4c62731d25"
      },
      "source": [
        "# Create linear regression object\n",
        "RRegressor = RandomForestRegressor(n_estimators=10, random_state=0)\n",
        "\n",
        "# Train the model using the training sets\n",
        "RRegressor.fit(X_train,y_train)"
      ],
      "execution_count": 23,
      "outputs": [
        {
          "output_type": "execute_result",
          "data": {
            "text/plain": [
              "RandomForestRegressor(bootstrap=True, ccp_alpha=0.0, criterion='mse',\n",
              "                      max_depth=None, max_features='auto', max_leaf_nodes=None,\n",
              "                      max_samples=None, min_impurity_decrease=0.0,\n",
              "                      min_impurity_split=None, min_samples_leaf=1,\n",
              "                      min_samples_split=2, min_weight_fraction_leaf=0.0,\n",
              "                      n_estimators=10, n_jobs=None, oob_score=False,\n",
              "                      random_state=0, verbose=0, warm_start=False)"
            ]
          },
          "metadata": {
            "tags": []
          },
          "execution_count": 23
        }
      ]
    },
    {
      "cell_type": "code",
      "metadata": {
        "id": "5VWcPs0fOl9N"
      },
      "source": [
        "# Make predictions using the testing set\n",
        "RF_y_pred = RRegressor.predict(X_test)"
      ],
      "execution_count": 24,
      "outputs": []
    },
    {
      "cell_type": "code",
      "metadata": {
        "colab": {
          "base_uri": "https://localhost:8080/"
        },
        "id": "0cdfVMNzAyB5",
        "outputId": "33887134-493c-4987-d2c4-01d763aad659"
      },
      "source": [
        "print('Mean squared error: %.4f'\n",
        "      % mean_squared_error(y_test, RF_y_pred))\n",
        "# The coefficient of determination: 1 is perfect prediction\n",
        "print('r2 score: %.2f'\n",
        "      % r2_score(y_test, RF_y_pred))\n"
      ],
      "execution_count": 25,
      "outputs": [
        {
          "output_type": "stream",
          "text": [
            "Mean squared error: 0.0012\n",
            "r2 score: 0.96\n"
          ],
          "name": "stdout"
        }
      ]
    },
    {
      "cell_type": "code",
      "metadata": {
        "id": "GYyCUlTOOio7"
      },
      "source": [
        ""
      ],
      "execution_count": null,
      "outputs": []
    }
  ]
}